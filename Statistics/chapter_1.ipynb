{
 "cells": [
  {
   "cell_type": "markdown",
   "metadata": {},
   "source": [
    "# Chapter 1. Basic Concepts of Measurements\n",
    "\n",
    "\n",
    "#### ⭐level of Data:\n",
    "1. Nominal Data: basic categorical data; yes or no, spam or noSpam\n",
    "2. Ordinal data: meaningful order; Ex: rating of Food between 1 to 5\n",
    "3. Continous Data: can take any value between Range; Ex: height, Distance\n",
    "4. Discrete Data: strong, bold numbers; Ex: no. of house, no. of Cars\n",
    "\n",
    "\n",
    "#### ⭐Proxy Measurements:\n",
    "1. process of substituting one value with another\n",
    "2. Ex: Calculating Happiness Index using income, mortality Rate, no of Child Ex.\n",
    "\n",
    "#### ⭐True and Error Score:\n",
    "1. X = T + E , where X is observed Value, T is True Value, and E is Error\n",
    "2. Random Error : Error with no traces, no pattern of occurence, Hard to Find\n",
    "3. Symmetric Error: Error with Traces, and pattern, can be found and fix\n",
    "\n",
    "\n",
    "#### Biases:\n",
    "1. errors that skews the Data from true Value\n",
    "2. Selection Bias: bias of one subject is more likely of getting selected\n",
    "3. Information Bias: "
   ]
  },
  {
   "cell_type": "markdown",
   "metadata": {},
   "source": []
  }
 ],
 "metadata": {
  "language_info": {
   "name": "python"
  }
 },
 "nbformat": 4,
 "nbformat_minor": 2
}
